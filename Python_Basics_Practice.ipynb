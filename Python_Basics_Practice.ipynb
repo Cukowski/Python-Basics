{
 "cells": [
  {
   "cell_type": "markdown",
   "id": "4d5f5044",
   "metadata": {},
   "source": [
    "## Data Types & Variables"
   ]
  },
  {
   "cell_type": "code",
   "execution_count": 1,
   "id": "c84047d8",
   "metadata": {},
   "outputs": [
    {
     "name": "stdout",
     "output_type": "stream",
     "text": [
      "<class 'int'> <class 'float'> <class 'str'> <class 'bool'>\n"
     ]
    }
   ],
   "source": [
    "\n",
    "# Data Types & Variables in Python\n",
    "\n",
    "# Integer, Float, String, Boolean\n",
    "x = 10        # Integer\n",
    "y = 3.14      # Float\n",
    "name = \"Python\"  # String\n",
    "is_ready = True  # Boolean\n",
    "\n",
    "print(type(x), type(y), type(name), type(is_ready))\n"
   ]
  },
  {
   "cell_type": "markdown",
   "id": "f03043c7",
   "metadata": {},
   "source": [
    "## String Manipulation"
   ]
  },
  {
   "cell_type": "code",
   "execution_count": 2,
   "id": "caa5856c",
   "metadata": {},
   "outputs": [
    {
     "name": "stdout",
     "output_type": "stream",
     "text": [
      "Hello, Python!\n",
      "  hello, python!  \n",
      "  HELLO, PYTHON!  \n",
      "  Hello, World!  \n",
      "My name is Alice and I am 25 years old.\n"
     ]
    }
   ],
   "source": [
    "\n",
    "# String Manipulation\n",
    "\n",
    "text = \"  Hello, Python!  \"\n",
    "print(text.strip())    # Remove whitespace\n",
    "print(text.lower())    # Convert to lowercase\n",
    "print(text.upper())    # Convert to uppercase\n",
    "print(text.replace(\"Python\", \"World\"))  # Replace substring\n",
    "\n",
    "# String formatting\n",
    "name = \"Alice\"\n",
    "age = 25\n",
    "print(f\"My name is {name} and I am {age} years old.\")\n"
   ]
  },
  {
   "cell_type": "markdown",
   "id": "ed840f3f",
   "metadata": {},
   "source": [
    "## List Operations"
   ]
  },
  {
   "cell_type": "code",
   "execution_count": 10,
   "id": "b7ffcd34",
   "metadata": {},
   "outputs": [
    {
     "name": "stdout",
     "output_type": "stream",
     "text": [
      "[1, 2, 3, 4, 5, 6]\n",
      "[1, 4, 9, 16, 25, 36]\n"
     ]
    }
   ],
   "source": [
    "\n",
    "# List Operations\n",
    "\n",
    "numbers = [1, 2, 3, 4, 5]\n",
    "numbers.append(6)  # Add element\n",
    "numbers.insert(2, 10)  # Insert at index\n",
    "numbers.remove(3)  # Remove element\n",
    "numbers.pop()  # Remove last element\n",
    "\n",
    "print(numbers)\n",
    "\n",
    "# List Comprehension\n",
    "squared = [x**2 for x in numbers]\n",
    "print(squared)\n"
   ]
  },
  {
   "cell_type": "markdown",
   "id": "e8e9fccf",
   "metadata": {},
   "source": [
    "## Conditional Statements & Loops"
   ]
  },
  {
   "cell_type": "code",
   "execution_count": 11,
   "id": "f6089ee2",
   "metadata": {},
   "outputs": [
    {
     "name": "stdout",
     "output_type": "stream",
     "text": [
      "1 is odd\n",
      "2 is even\n",
      "3 is odd\n",
      "4 is even\n",
      "5 is odd\n",
      "6 is even\n",
      "Count: 0\n",
      "Count: 1\n",
      "Count: 2\n",
      "Count: 3\n",
      "Count: 4\n"
     ]
    }
   ],
   "source": [
    "\n",
    "# Conditional Statements & Loops\n",
    "\n",
    "for num in numbers:\n",
    "    if num % 2 == 0:\n",
    "        print(f\"{num} is even\")\n",
    "    else:\n",
    "        print(f\"{num} is odd\")\n",
    "\n",
    "# While loop example\n",
    "count = 0\n",
    "while count < 5:\n",
    "    print(f\"Count: {count}\")\n",
    "    count += 1\n"
   ]
  },
  {
   "cell_type": "markdown",
   "id": "9f82c27a",
   "metadata": {},
   "source": [
    "## Dictionaries & Sets"
   ]
  },
  {
   "cell_type": "code",
   "execution_count": 13,
   "id": "b4f2ad5c",
   "metadata": {},
   "outputs": [
    {
     "name": "stdout",
     "output_type": "stream",
     "text": [
      "Alice\n",
      "{'name': 'Alice', 'age': 22, 'grade': 'A', 'city': 'Berlin'}\n",
      "{1, 2, 3, 4, 5, 6}\n"
     ]
    }
   ],
   "source": [
    "\n",
    "# Dictionaries & Sets\n",
    "\n",
    "student = {\"name\": \"Alice\", \"age\": 22, \"grade\": \"A\"}\n",
    "print(student[\"name\"])  # Access dictionary value\n",
    "\n",
    "# Adding key-value pairs\n",
    "student[\"city\"] = \"Berlin\"\n",
    "\n",
    "print(student)\n",
    "\n",
    "# Set example\n",
    "unique_numbers = {1, 2, 3, 4, 4, 5}\n",
    "unique_numbers.add(6)\n",
    "print(unique_numbers)\n"
   ]
  },
  {
   "cell_type": "markdown",
   "id": "849f242b",
   "metadata": {},
   "source": [
    "## Functions & Lambda Expressions"
   ]
  },
  {
   "cell_type": "code",
   "execution_count": 14,
   "id": "b7685bdd",
   "metadata": {},
   "outputs": [
    {
     "name": "stdout",
     "output_type": "stream",
     "text": [
      "Hello, Alice!\n",
      "25\n"
     ]
    }
   ],
   "source": [
    "\n",
    "# Functions & Lambda Expressions\n",
    "\n",
    "def greet(name):\n",
    "    return f\"Hello, {name}!\"\n",
    "\n",
    "print(greet(\"Alice\"))\n",
    "\n",
    "# Lambda function\n",
    "square = lambda x: x**2\n",
    "print(square(5))\n"
   ]
  },
  {
   "cell_type": "markdown",
   "id": "5e75660e",
   "metadata": {},
   "source": [
    "## File Handling"
   ]
  },
  {
   "cell_type": "code",
   "execution_count": 15,
   "id": "507a8607",
   "metadata": {},
   "outputs": [
    {
     "name": "stdout",
     "output_type": "stream",
     "text": [
      "Hello, this is a test file!\n"
     ]
    }
   ],
   "source": [
    "\n",
    "# File Handling\n",
    "\n",
    "# Writing to a file\n",
    "with open(\"sample.txt\", \"w\") as file:\n",
    "    file.write(\"Hello, this is a test file!\")\n",
    "\n",
    "# Reading from a file\n",
    "with open(\"sample.txt\", \"r\") as file:\n",
    "    content = file.read()\n",
    "    print(content)\n"
   ]
  },
  {
   "cell_type": "markdown",
   "id": "fb300665",
   "metadata": {},
   "source": [
    "## Regular Expressions"
   ]
  },
  {
   "cell_type": "code",
   "execution_count": 16,
   "id": "46e64150",
   "metadata": {},
   "outputs": [
    {
     "name": "stdout",
     "output_type": "stream",
     "text": [
      "Python\n"
     ]
    }
   ],
   "source": [
    "\n",
    "# Regular Expressions\n",
    "\n",
    "import re\n",
    "\n",
    "pattern = r\"\\bPython\\b\"\n",
    "text = \"I am learning Python programming.\"\n",
    "match = re.search(pattern, text)\n",
    "print(match.group() if match else \"No match\")\n"
   ]
  },
  {
   "cell_type": "markdown",
   "id": "89bdf634",
   "metadata": {},
   "source": [
    "## Pandas Basics"
   ]
  },
  {
   "cell_type": "code",
   "execution_count": 17,
   "id": "539bdccf",
   "metadata": {},
   "outputs": [
    {
     "name": "stdout",
     "output_type": "stream",
     "text": [
      "      Name  Age\n",
      "0    Alice   22\n",
      "1      Bob   25\n",
      "2  Charlie   30\n",
      "             Age\n",
      "count   3.000000\n",
      "mean   25.666667\n",
      "std     4.041452\n",
      "min    22.000000\n",
      "25%    23.500000\n",
      "50%    25.000000\n",
      "75%    27.500000\n",
      "max    30.000000\n"
     ]
    }
   ],
   "source": [
    "\n",
    "# Pandas Basics\n",
    "\n",
    "import pandas as pd\n",
    "\n",
    "data = {\"Name\": [\"Alice\", \"Bob\", \"Charlie\"], \"Age\": [22, 25, 30]}\n",
    "df = pd.DataFrame(data)\n",
    "\n",
    "print(df)\n",
    "print(df.describe())\n"
   ]
  },
  {
   "cell_type": "markdown",
   "id": "2aa9c321",
   "metadata": {},
   "source": [
    "## Matplotlib Basics"
   ]
  },
  {
   "cell_type": "code",
   "execution_count": 19,
   "id": "ddbd2eba",
   "metadata": {},
   "outputs": [
    {
     "data": {
      "image/png": "[encoded data removed]",
      "text/plain": [
       "<Figure size 640x480 with 1 Axes>"
      ]
     },
     "metadata": {},
     "output_type": "display_data"
    }
   ],
   "source": [
    "\n",
    "# Matplotlib Basics\n",
    "\n",
    "import matplotlib.pyplot as plt\n",
    "import numpy as np\n",
    "\n",
    "x = np.linspace(0, 10, 100)\n",
    "y = np.sin(x)\n",
    "\n",
    "plt.plot(x, y, label=\"Sine Wave\", color=\"red\")\n",
    "plt.xlabel(\"X-axis\")\n",
    "plt.ylabel(\"Y-axis\")\n",
    "plt.title(\"Sine Wave Plot\")\n",
    "plt.legend()\n",
    "plt.show()\n"
   ]
  },
  {
   "cell_type": "code",
   "execution_count": null,
   "id": "7e46bb98",
   "metadata": {},
   "outputs": [],
   "source": []
  }
 ],
 "metadata": {
  "kernelspec": {
   "display_name": "Python 3",
   "language": "python",
   "name": "python3"
  },
  "language_info": {
   "codemirror_mode": {
    "name": "ipython",
    "version": 3
   },
   "file_extension": ".py",
   "mimetype": "text/x-python",
   "name": "python",
   "nbconvert_exporter": "python",
   "pygments_lexer": "ipython3",
   "version": "3.13.0"
  }
 },
 "nbformat": 4,
 "nbformat_minor": 5
}
